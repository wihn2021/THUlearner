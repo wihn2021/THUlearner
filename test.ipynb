{
 "cells": [
  {
   "cell_type": "code",
   "execution_count": 1,
   "metadata": {},
   "outputs": [],
   "source": [
    "from utils import THUer\n",
    "import requests\n",
    "import json"
   ]
  },
  {
   "cell_type": "code",
   "execution_count": 2,
   "metadata": {},
   "outputs": [
    {
     "name": "stdout",
     "output_type": "stream",
     "text": [
      "{\"result\":\"success\",\"msg\":null,\"object\":{\"iTotalRecords\":\"0\",\"iTotalDisplayRecords\":\"0\",\"iDisplayStart\":\"0\",\"iDisplayLength\":\"30\",\"sEcho\":\"1\",\"sSearch\":null,\"aaData\":[]}}\n",
      "{\"result\":\"success\",\"msg\":null,\"object\":{\"iTotalRecords\":\"0\",\"iTotalDisplayRecords\":\"0\",\"iDisplayStart\":\"0\",\"iDisplayLength\":\"30\",\"sEcho\":\"1\",\"sSearch\":null,\"aaData\":[]}}\n",
      "{\"result\":\"success\",\"msg\":null,\"object\":{\"iTotalRecords\":\"2\",\"iTotalDisplayRecords\":\"2\",\"iDisplayStart\":\"0\",\"iDisplayLength\":\"30\",\"sEcho\":\"1\",\"sSearch\":null,\"aaData\":[{\"kssj\":1648098420000,\"kssjStr\":\"2022-03-24 13:07\",\"jzsj\":1649001540000,\"jzsjStr\":\"2022-04-03 23:59\",\"bt\":\"02组第10课作业\",\"wz\":15,\"zywcfs\":1,\"zytjfs\":2,\"jffs\":1,\"mxdxmc\":\"小组分组-组02\",\"mxdx\":\"144669051\",\"wlkcid\":\"2021-2022-2144169327\",\"xszyid\":\"26ef84e77f68bf16017fba52fdb45a06\",\"xh\":\"2021012714\",\"zyid\":\"26ef84e77f68bf16017fba52fd5759f1\",\"zynr\":null,\"zynrStr\":\"\",\"zyfjid\":\"\",\"scr\":\"\",\"scsj\":null,\"scsjStr\":\"\",\"gzzh\":\"\",\"pysj\":null,\"pysjStr\":\"\",\"pynr\":\"\",\"pylj\":\"\",\"cj\":null,\"zt\":\"未交\",\"pyzt\":\"未批改\",\"qzid\":\"144669051\",\"bz\":\"\",\"qzmc\":\"组02\",\"xm\":\"王溢寒\",\"dwmc\":\"电子系\",\"bm\":\"无14 \",\"cjgbsj\":null,\"fjdxxz\":null,\"djzcj\":\"\",\"ywdjzcj\":null,\"jsm\":\"\",\"wjmc\":null,\"wjdx\":null,\"id\":null},{\"kssj\":1647957480000,\"kssjStr\":\"2022-03-22 21:58\",\"jzsj\":1649001540000,\"jzsjStr\":\"2022-04-03 23:59\",\"bt\":\"02组第9课作业\",\"wz\":12,\"zywcfs\":1,\"zytjfs\":2,\"jffs\":1,\"mxdxmc\":\"小组分组-组02\",\"mxdx\":\"144669051\",\"wlkcid\":\"2021-2022-2144169327\",\"xszyid\":\"26ef84e87f68bfa0017fb1ec24373990\",\"xh\":\"2021012714\",\"zyid\":\"26ef84e87f68bfa0017fb1ec23ec397b\",\"zynr\":null,\"zynrStr\":\"\",\"zyfjid\":\"\",\"scr\":\"\",\"scsj\":null,\"scsjStr\":\"\",\"gzzh\":\"\",\"pysj\":null,\"pysjStr\":\"\",\"pynr\":\"\",\"pylj\":\"\",\"cj\":null,\"zt\":\"未交\",\"pyzt\":\"未批改\",\"qzid\":\"144669051\",\"bz\":\"\",\"qzmc\":\"组02\",\"xm\":\"王溢寒\",\"dwmc\":\"电子系\",\"bm\":\"无14 \",\"cjgbsj\":null,\"fjdxxz\":null,\"djzcj\":\"\",\"ywdjzcj\":null,\"jsm\":\"\",\"wjmc\":null,\"wjdx\":null,\"id\":null}]}}\n",
      "{\"result\":\"success\",\"msg\":null,\"object\":{\"iTotalRecords\":\"0\",\"iTotalDisplayRecords\":\"0\",\"iDisplayStart\":\"0\",\"iDisplayLength\":\"30\",\"sEcho\":\"1\",\"sSearch\":null,\"aaData\":[]}}\n",
      "{\"result\":\"success\",\"msg\":null,\"object\":{\"iTotalRecords\":\"1\",\"iTotalDisplayRecords\":\"1\",\"iDisplayStart\":\"0\",\"iDisplayLength\":\"30\",\"sEcho\":\"1\",\"sSearch\":null,\"aaData\":[{\"kssj\":1647567300000,\"kssjStr\":\"2022-03-18 09:35\",\"jzsj\":1648223940000,\"jzsjStr\":\"2022-03-25 23:59\",\"bt\":\"1-4专题  读书报告\",\"wz\":1,\"zywcfs\":1,\"zytjfs\":2,\"jffs\":1,\"mxdxmc\":\"全体学生-全体\",\"mxdx\":\"INITQZ144185069\",\"wlkcid\":\"2021-2022-2144169435\",\"xszyid\":\"26ef84e87f68bfa0017f9aab73091d37\",\"xh\":\"2021012714\",\"zyid\":\"26ef84e87f68bfa0017f9aab6eaf1c9e\",\"zynr\":null,\"zynrStr\":\"\",\"zyfjid\":\"\",\"scr\":\"\",\"scsj\":null,\"scsjStr\":\"\",\"gzzh\":\"\",\"pysj\":null,\"pysjStr\":\"\",\"pynr\":\"\",\"pylj\":\"\",\"cj\":null,\"zt\":\"未交\",\"pyzt\":\"未批改\",\"qzid\":\"INITQZ144185069\",\"bz\":\"\",\"qzmc\":\"全体\",\"xm\":\"王溢寒\",\"dwmc\":\"电子系\",\"bm\":\"无14 \",\"cjgbsj\":null,\"fjdxxz\":null,\"djzcj\":\"\",\"ywdjzcj\":null,\"jsm\":\"\",\"wjmc\":null,\"wjdx\":null,\"id\":null}]}}\n",
      "{\"result\":\"success\",\"msg\":null,\"object\":{\"iTotalRecords\":\"0\",\"iTotalDisplayRecords\":\"0\",\"iDisplayStart\":\"0\",\"iDisplayLength\":\"30\",\"sEcho\":\"1\",\"sSearch\":null,\"aaData\":[]}}\n",
      "{\"result\":\"success\",\"msg\":null,\"object\":{\"iTotalRecords\":\"0\",\"iTotalDisplayRecords\":\"0\",\"iDisplayStart\":\"0\",\"iDisplayLength\":\"30\",\"sEcho\":\"1\",\"sSearch\":null,\"aaData\":[]}}\n",
      "{\"result\":\"success\",\"msg\":null,\"object\":{\"iTotalRecords\":\"1\",\"iTotalDisplayRecords\":\"1\",\"iDisplayStart\":\"0\",\"iDisplayLength\":\"30\",\"sEcho\":\"1\",\"sSearch\":null,\"aaData\":[{\"kssj\":1648185840000,\"kssjStr\":\"2022-03-25 13:24\",\"jzsj\":1649001540000,\"jzsjStr\":\"2022-04-03 23:59\",\"bt\":\"实验一 仪器使用和基本电量的测量\",\"wz\":1,\"zywcfs\":1,\"zytjfs\":2,\"jffs\":1,\"mxdxmc\":\"全体学生-全体\",\"mxdx\":\"INITQZ144184097\",\"wlkcid\":\"2021-2022-2144170357\",\"xszyid\":\"26ef84e77f68bf16017fbf88e89228a0\",\"xh\":\"2021012714\",\"zyid\":\"26ef84e77f68bf16017fbf88e81d27d0\",\"zynr\":null,\"zynrStr\":\"\",\"zyfjid\":\"\",\"scr\":\"\",\"scsj\":null,\"scsjStr\":\"\",\"gzzh\":\"\",\"pysj\":null,\"pysjStr\":\"\",\"pynr\":\"\",\"pylj\":\"\",\"cj\":null,\"zt\":\"未交\",\"pyzt\":\"未批改\",\"qzid\":\"INITQZ144184097\",\"bz\":\"\",\"qzmc\":\"全体\",\"xm\":\"王溢寒\",\"dwmc\":\"电子系\",\"bm\":\"无14 \",\"cjgbsj\":null,\"fjdxxz\":null,\"djzcj\":\"\",\"ywdjzcj\":null,\"jsm\":\"\",\"wjmc\":null,\"wjdx\":null,\"id\":null}]}}\n",
      "{\"result\":\"success\",\"msg\":null,\"object\":{\"iTotalRecords\":\"0\",\"iTotalDisplayRecords\":\"0\",\"iDisplayStart\":\"0\",\"iDisplayLength\":\"30\",\"sEcho\":\"1\",\"sSearch\":null,\"aaData\":[]}}\n",
      "{\"result\":\"success\",\"msg\":null,\"object\":{\"iTotalRecords\":\"1\",\"iTotalDisplayRecords\":\"1\",\"iDisplayStart\":\"0\",\"iDisplayLength\":\"30\",\"sEcho\":\"1\",\"sSearch\":null,\"aaData\":[{\"kssj\":1648023600000,\"kssjStr\":\"2022-03-23 16:20\",\"jzsj\":1649347140000,\"jzsjStr\":\"2022-04-07 23:59\",\"bt\":\"第三次cad作业\",\"wz\":7,\"zywcfs\":1,\"zytjfs\":2,\"jffs\":1,\"mxdxmc\":\"我的分组-张剑,王志凯\",\"mxdx\":\"144669055,144669056\",\"wlkcid\":\"2021-2022-2144170668\",\"xszyid\":\"26ef84e77f68bf16017fb5dd6d702494\",\"xh\":\"2021012714\",\"zyid\":\"26ef84e77f68bf16017fb5dd6d222469\",\"zynr\":null,\"zynrStr\":\"\",\"zyfjid\":\"\",\"scr\":\"\",\"scsj\":null,\"scsjStr\":\"\",\"gzzh\":\"\",\"pysj\":null,\"pysjStr\":\"\",\"pynr\":\"\",\"pylj\":\"\",\"cj\":null,\"zt\":\"未交\",\"pyzt\":\"未批改\",\"qzid\":\"144669055\",\"bz\":\"\",\"qzmc\":\"张剑\",\"xm\":\"王溢寒\",\"dwmc\":\"电子系\",\"bm\":\"无14 \",\"cjgbsj\":null,\"fjdxxz\":null,\"djzcj\":\"\",\"ywdjzcj\":null,\"jsm\":\"\",\"wjmc\":null,\"wjdx\":null,\"id\":null}]}}\n",
      "{\"result\":\"success\",\"msg\":null,\"object\":{\"iTotalRecords\":\"0\",\"iTotalDisplayRecords\":\"0\",\"iDisplayStart\":\"0\",\"iDisplayLength\":\"30\",\"sEcho\":\"1\",\"sSearch\":null,\"aaData\":[]}}\n"
     ]
    }
   ],
   "source": [
    "I = THUer('yihan-wa21', 'wyh20030729@thu')"
   ]
  },
  {
   "cell_type": "code",
   "execution_count": 4,
   "metadata": {},
   "outputs": [
    {
     "name": "stdout",
     "output_type": "stream",
     "text": [
      "02组第10课作业 26ef84e77f68bf16017fba52fd5759f1 1649001540000 False\n"
     ]
    }
   ],
   "source": [
    "print(I.courselist[2].homeworklist[0])"
   ]
  },
  {
   "cell_type": "code",
   "execution_count": 139,
   "metadata": {},
   "outputs": [
    {
     "data": {
      "text/plain": [
       "{'XSRF-TOKEN': '748dbb77-f5f4-44f1-a35a-8f7528fb1b1f',\n",
       " 'JSESSIONID': '9D770FDEF15765759C417FA68967D50B.wlxt20181',\n",
       " 'serverid': '1325456'}"
      ]
     },
     "execution_count": 139,
     "metadata": {},
     "output_type": "execute_result"
    }
   ],
   "source": [
    "I.cookie"
   ]
  },
  {
   "cell_type": "code",
   "execution_count": 140,
   "metadata": {},
   "outputs": [
    {
     "data": {
      "text/plain": [
       "'2021-2022-2144170678'"
      ]
     },
     "execution_count": 140,
     "metadata": {},
     "output_type": "execute_result"
    }
   ],
   "source": [
    "I.courselist[10].id"
   ]
  },
  {
   "cell_type": "code",
   "execution_count": 141,
   "metadata": {},
   "outputs": [],
   "source": [
    "data = 'aoData=[{\"name\":\"sEcho\",\"value\":1},{\"name\":\"iColumns\",\"value\":8},{\"name\":\"sColumns\",\"value\":\",,,,,,,\"},{\"name\":\"iDisplayStart\",\"value\":0},{\"name\":\"iDisplayLength\",\"value\":\"30\"},{\"name\":\"mDataProp_0\",\"value\":\"wz\"},{\"name\":\"bSortable_0\",\"value\":false},{\"name\":\"mDataProp_1\",\"value\":\"bt\"},{\"name\":\"bSortable_1\",\"value\":true},{\"name\":\"mDataProp_2\",\"value\":\"mxdxmc\"},{\"name\":\"bSortable_2\",\"value\":true},{\"name\":\"mDataProp_3\",\"value\":\"zywcfs\"},{\"name\":\"bSortable_3\",\"value\":true},{\"name\":\"mDataProp_4\",\"value\":\"kssj\"},{\"name\":\"bSortable_4\",\"value\":true},{\"name\":\"mDataProp_5\",\"value\":\"jzsj\"},{\"name\":\"bSortable_5\",\"value\":true},{\"name\":\"mDataProp_6\",\"value\":\"jzsj\"},{\"name\":\"bSortable_6\",\"value\":true},{\"name\":\"mDataProp_7\",\"value\":\"function\"},{\"name\":\"bSortable_7\",\"value\":false},{\"name\":\"iSortCol_0\",\"value\":5},{\"name\":\"sSortDir_0\",\"value\":\"desc\"},{\"name\":\"iSortCol_1\",\"value\":6},{\"name\":\"sSortDir_1\",\"value\":\"desc\"},{\"name\":\"iSortingCols\",\"value\":2},{\"name\":\"wlkcid\",\"value\":\"%s\"}]'"
   ]
  },
  {
   "cell_type": "code",
   "execution_count": 142,
   "metadata": {},
   "outputs": [],
   "source": [
    "head = {'Content-Type': 'application/x-www-form-urlencoded; charset=UTF-8', 'X-Requested-With': 'XMLHttpRequest', 'X-XSRF-TOKEN': I.cookie['XSRF-TOKEN']}\n",
    "res = requests.post('https://learn.tsinghua.edu.cn/b/wlxt/kczy/zy/student/zyListWj?_csrf=%s&_csrf=%s'%(I.cookie['XSRF-TOKEN'],I.cookie['XSRF-TOKEN']), data=data%(I.courselist[2].id,),headers=head,cookies=I.cookie)"
   ]
  },
  {
   "cell_type": "code",
   "execution_count": 143,
   "metadata": {},
   "outputs": [
    {
     "data": {
      "text/plain": [
       "'{\"result\":\"success\",\"msg\":null,\"object\":{\"iTotalRecords\":\"2\",\"iTotalDisplayRecords\":\"2\",\"iDisplayStart\":\"0\",\"iDisplayLength\":\"30\",\"sEcho\":\"1\",\"sSearch\":null,\"aaData\":[{\"kssj\":1648098420000,\"kssjStr\":\"2022-03-24 13:07\",\"jzsj\":1649001540000,\"jzsjStr\":\"2022-04-03 23:59\",\"bt\":\"02组第10课作业\",\"wz\":15,\"zywcfs\":1,\"zytjfs\":2,\"jffs\":1,\"mxdxmc\":\"小组分组-组02\",\"mxdx\":\"144669051\",\"wlkcid\":\"2021-2022-2144169327\",\"xszyid\":\"26ef84e77f68bf16017fba52fdb45a06\",\"xh\":\"2021012714\",\"zyid\":\"26ef84e77f68bf16017fba52fd5759f1\",\"zynr\":null,\"zynrStr\":\"\",\"zyfjid\":\"\",\"scr\":\"\",\"scsj\":null,\"scsjStr\":\"\",\"gzzh\":\"\",\"pysj\":null,\"pysjStr\":\"\",\"pynr\":\"\",\"pylj\":\"\",\"cj\":null,\"zt\":\"未交\",\"pyzt\":\"未批改\",\"qzid\":\"144669051\",\"bz\":\"\",\"qzmc\":\"组02\",\"xm\":\"王溢寒\",\"dwmc\":\"电子系\",\"bm\":\"无14 \",\"cjgbsj\":null,\"fjdxxz\":null,\"djzcj\":\"\",\"ywdjzcj\":null,\"jsm\":\"\",\"wjmc\":null,\"wjdx\":null,\"id\":null},{\"kssj\":1647957480000,\"kssjStr\":\"2022-03-22 21:58\",\"jzsj\":1649001540000,\"jzsjStr\":\"2022-04-03 23:59\",\"bt\":\"02组第9课作业\",\"wz\":12,\"zywcfs\":1,\"zytjfs\":2,\"jffs\":1,\"mxdxmc\":\"小组分组-组02\",\"mxdx\":\"144669051\",\"wlkcid\":\"2021-2022-2144169327\",\"xszyid\":\"26ef84e87f68bfa0017fb1ec24373990\",\"xh\":\"2021012714\",\"zyid\":\"26ef84e87f68bfa0017fb1ec23ec397b\",\"zynr\":null,\"zynrStr\":\"\",\"zyfjid\":\"\",\"scr\":\"\",\"scsj\":null,\"scsjStr\":\"\",\"gzzh\":\"\",\"pysj\":null,\"pysjStr\":\"\",\"pynr\":\"\",\"pylj\":\"\",\"cj\":null,\"zt\":\"未交\",\"pyzt\":\"未批改\",\"qzid\":\"144669051\",\"bz\":\"\",\"qzmc\":\"组02\",\"xm\":\"王溢寒\",\"dwmc\":\"电子系\",\"bm\":\"无14 \",\"cjgbsj\":null,\"fjdxxz\":null,\"djzcj\":\"\",\"ywdjzcj\":null,\"jsm\":\"\",\"wjmc\":null,\"wjdx\":null,\"id\":null}]}}'"
      ]
     },
     "execution_count": 143,
     "metadata": {},
     "output_type": "execute_result"
    }
   ],
   "source": [
    "res.text"
   ]
  },
  {
   "cell_type": "code",
   "execution_count": 144,
   "metadata": {},
   "outputs": [],
   "source": [
    "hwd = json.loads(res.text)"
   ]
  },
  {
   "cell_type": "code",
   "execution_count": 145,
   "metadata": {},
   "outputs": [
    {
     "data": {
      "text/plain": [
       "{'result': 'success',\n",
       " 'msg': None,\n",
       " 'object': {'iTotalRecords': '2',\n",
       "  'iTotalDisplayRecords': '2',\n",
       "  'iDisplayStart': '0',\n",
       "  'iDisplayLength': '30',\n",
       "  'sEcho': '1',\n",
       "  'sSearch': None,\n",
       "  'aaData': [{'kssj': 1648098420000,\n",
       "    'kssjStr': '2022-03-24 13:07',\n",
       "    'jzsj': 1649001540000,\n",
       "    'jzsjStr': '2022-04-03 23:59',\n",
       "    'bt': '02组第10课作业',\n",
       "    'wz': 15,\n",
       "    'zywcfs': 1,\n",
       "    'zytjfs': 2,\n",
       "    'jffs': 1,\n",
       "    'mxdxmc': '小组分组-组02',\n",
       "    'mxdx': '144669051',\n",
       "    'wlkcid': '2021-2022-2144169327',\n",
       "    'xszyid': '26ef84e77f68bf16017fba52fdb45a06',\n",
       "    'xh': '2021012714',\n",
       "    'zyid': '26ef84e77f68bf16017fba52fd5759f1',\n",
       "    'zynr': None,\n",
       "    'zynrStr': '',\n",
       "    'zyfjid': '',\n",
       "    'scr': '',\n",
       "    'scsj': None,\n",
       "    'scsjStr': '',\n",
       "    'gzzh': '',\n",
       "    'pysj': None,\n",
       "    'pysjStr': '',\n",
       "    'pynr': '',\n",
       "    'pylj': '',\n",
       "    'cj': None,\n",
       "    'zt': '未交',\n",
       "    'pyzt': '未批改',\n",
       "    'qzid': '144669051',\n",
       "    'bz': '',\n",
       "    'qzmc': '组02',\n",
       "    'xm': '王溢寒',\n",
       "    'dwmc': '电子系',\n",
       "    'bm': '无14 ',\n",
       "    'cjgbsj': None,\n",
       "    'fjdxxz': None,\n",
       "    'djzcj': '',\n",
       "    'ywdjzcj': None,\n",
       "    'jsm': '',\n",
       "    'wjmc': None,\n",
       "    'wjdx': None,\n",
       "    'id': None},\n",
       "   {'kssj': 1647957480000,\n",
       "    'kssjStr': '2022-03-22 21:58',\n",
       "    'jzsj': 1649001540000,\n",
       "    'jzsjStr': '2022-04-03 23:59',\n",
       "    'bt': '02组第9课作业',\n",
       "    'wz': 12,\n",
       "    'zywcfs': 1,\n",
       "    'zytjfs': 2,\n",
       "    'jffs': 1,\n",
       "    'mxdxmc': '小组分组-组02',\n",
       "    'mxdx': '144669051',\n",
       "    'wlkcid': '2021-2022-2144169327',\n",
       "    'xszyid': '26ef84e87f68bfa0017fb1ec24373990',\n",
       "    'xh': '2021012714',\n",
       "    'zyid': '26ef84e87f68bfa0017fb1ec23ec397b',\n",
       "    'zynr': None,\n",
       "    'zynrStr': '',\n",
       "    'zyfjid': '',\n",
       "    'scr': '',\n",
       "    'scsj': None,\n",
       "    'scsjStr': '',\n",
       "    'gzzh': '',\n",
       "    'pysj': None,\n",
       "    'pysjStr': '',\n",
       "    'pynr': '',\n",
       "    'pylj': '',\n",
       "    'cj': None,\n",
       "    'zt': '未交',\n",
       "    'pyzt': '未批改',\n",
       "    'qzid': '144669051',\n",
       "    'bz': '',\n",
       "    'qzmc': '组02',\n",
       "    'xm': '王溢寒',\n",
       "    'dwmc': '电子系',\n",
       "    'bm': '无14 ',\n",
       "    'cjgbsj': None,\n",
       "    'fjdxxz': None,\n",
       "    'djzcj': '',\n",
       "    'ywdjzcj': None,\n",
       "    'jsm': '',\n",
       "    'wjmc': None,\n",
       "    'wjdx': None,\n",
       "    'id': None}]}}"
      ]
     },
     "execution_count": 145,
     "metadata": {},
     "output_type": "execute_result"
    }
   ],
   "source": [
    "hwd"
   ]
  },
  {
   "cell_type": "code",
   "execution_count": 149,
   "metadata": {},
   "outputs": [
    {
     "data": {
      "text/plain": [
       "15"
      ]
     },
     "execution_count": 149,
     "metadata": {},
     "output_type": "execute_result"
    }
   ],
   "source": [
    "hwd['object']['aaData'][0]['wz']"
   ]
  },
  {
   "cell_type": "code",
   "execution_count": 150,
   "metadata": {},
   "outputs": [
    {
     "name": "stdout",
     "output_type": "stream",
     "text": [
      "{'kssj': 1648098420000, 'kssjStr': '2022-03-24 13:07', 'jzsj': 1649001540000, 'jzsjStr': '2022-04-03 23:59', 'bt': '02组第10课作业', 'wz': 15, 'zywcfs': 1, 'zytjfs': 2, 'jffs': 1, 'mxdxmc': '小组分组-组02', 'mxdx': '144669051', 'wlkcid': '2021-2022-2144169327', 'xszyid': '26ef84e77f68bf16017fba52fdb45a06', 'xh': '2021012714', 'zyid': '26ef84e77f68bf16017fba52fd5759f1', 'zynr': None, 'zynrStr': '', 'zyfjid': '', 'scr': '', 'scsj': None, 'scsjStr': '', 'gzzh': '', 'pysj': None, 'pysjStr': '', 'pynr': '', 'pylj': '', 'cj': None, 'zt': '未交', 'pyzt': '未批改', 'qzid': '144669051', 'bz': '', 'qzmc': '组02', 'xm': '王溢寒', 'dwmc': '电子系', 'bm': '无14 ', 'cjgbsj': None, 'fjdxxz': None, 'djzcj': '', 'ywdjzcj': None, 'jsm': '', 'wjmc': None, 'wjdx': None, 'id': None}\n",
      "{'kssj': 1647957480000, 'kssjStr': '2022-03-22 21:58', 'jzsj': 1649001540000, 'jzsjStr': '2022-04-03 23:59', 'bt': '02组第9课作业', 'wz': 12, 'zywcfs': 1, 'zytjfs': 2, 'jffs': 1, 'mxdxmc': '小组分组-组02', 'mxdx': '144669051', 'wlkcid': '2021-2022-2144169327', 'xszyid': '26ef84e87f68bfa0017fb1ec24373990', 'xh': '2021012714', 'zyid': '26ef84e87f68bfa0017fb1ec23ec397b', 'zynr': None, 'zynrStr': '', 'zyfjid': '', 'scr': '', 'scsj': None, 'scsjStr': '', 'gzzh': '', 'pysj': None, 'pysjStr': '', 'pynr': '', 'pylj': '', 'cj': None, 'zt': '未交', 'pyzt': '未批改', 'qzid': '144669051', 'bz': '', 'qzmc': '组02', 'xm': '王溢寒', 'dwmc': '电子系', 'bm': '无14 ', 'cjgbsj': None, 'fjdxxz': None, 'djzcj': '', 'ywdjzcj': None, 'jsm': '', 'wjmc': None, 'wjdx': None, 'id': None}\n"
     ]
    }
   ],
   "source": [
    "for onehw in hwd['object']['aaData']:\n",
    "    print(onehw)"
   ]
  },
  {
   "cell_type": "code",
   "execution_count": 3,
   "metadata": {},
   "outputs": [],
   "source": [
    "import requests\n",
    "file = {'file': open('requirements.txt', 'rb')}\n",
    "url = 'https://www.baidu.com'\n",
    "r = requests.post(url, files=file)"
   ]
  },
  {
   "cell_type": "code",
   "execution_count": 5,
   "metadata": {},
   "outputs": [
    {
     "data": {
      "text/plain": [
       "{'User-Agent': 'python-requests/2.25.1', 'Accept-Encoding': 'gzip, deflate', 'Accept': '*/*', 'Connection': 'keep-alive', 'Content-Length': '190', 'Content-Type': 'multipart/form-data; boundary=86f23b6feb38be92066ab14502a1889f'}"
      ]
     },
     "execution_count": 5,
     "metadata": {},
     "output_type": "execute_result"
    }
   ],
   "source": [
    "r.request.headers"
   ]
  },
  {
   "cell_type": "code",
   "execution_count": 8,
   "metadata": {},
   "outputs": [
    {
     "data": {
      "text/plain": [
       "b'--86f23b6feb38be92066ab14502a1889f\\r\\nContent-Disposition: form-data; name=\"file\"; filename=\"requirements.txt\"\\r\\n\\r\\n\\xff\\xfer\\x00e\\x00q\\x00u\\x00e\\x00s\\x00t\\x00s\\x00~\\x00=\\x002\\x00.\\x002\\x007\\x00.\\x001\\x00\\r\\x00\\n\\x00\\r\\n--86f23b6feb38be92066ab14502a1889f--\\r\\n'"
      ]
     },
     "execution_count": 8,
     "metadata": {},
     "output_type": "execute_result"
    }
   ],
   "source": [
    "r.request.body"
   ]
  },
  {
   "cell_type": "code",
   "execution_count": 9,
   "metadata": {},
   "outputs": [],
   "source": [
    "url = 'https://www.baidu.com/'\n",
    "head = {'referer': '123456'}\n",
    "tj = requests.post(url, files=file, headers=head)"
   ]
  },
  {
   "cell_type": "code",
   "execution_count": 11,
   "metadata": {},
   "outputs": [
    {
     "data": {
      "text/plain": [
       "'multipart/form-data; boundary=c1121b543e08d98a679ddc51293d3dfd'"
      ]
     },
     "execution_count": 11,
     "metadata": {},
     "output_type": "execute_result"
    }
   ],
   "source": [
    "tj.request.headers['Content-Type']"
   ]
  },
  {
   "cell_type": "code",
   "execution_count": 1,
   "metadata": {},
   "outputs": [],
   "source": [
    "from utils import THUer\n",
    "u = THUer('yihan-wa21', 'wyh20030729@thu')\n"
   ]
  },
  {
   "cell_type": "code",
   "execution_count": 2,
   "metadata": {},
   "outputs": [
    {
     "data": {
      "text/plain": [
       "'大学物理A(1)'"
      ]
     },
     "execution_count": 2,
     "metadata": {},
     "output_type": "execute_result"
    }
   ],
   "source": [
    "u.courselist[3].name"
   ]
  },
  {
   "cell_type": "code",
   "execution_count": 7,
   "metadata": {},
   "outputs": [
    {
     "name": "stdout",
     "output_type": "stream",
     "text": [
      "02组第10课作业 1649001540000 False\n"
     ]
    }
   ],
   "source": [
    "print(u.courselist[2].handedhomeworklist[0])"
   ]
  },
  {
   "cell_type": "code",
   "execution_count": 8,
   "metadata": {},
   "outputs": [
    {
     "name": "stdout",
     "output_type": "stream",
     "text": [
      "handing in 02组第10课作业\n",
      "提交作业成功\n"
     ]
    }
   ],
   "source": [
    "u.courselist[2].handedhomeworklist[0].handinafile('requirements.txt')"
   ]
  },
  {
   "cell_type": "code",
   "execution_count": 24,
   "metadata": {},
   "outputs": [],
   "source": [
    "import requests\n",
    "head = {'referer': 'handinhomeworkurl % (self.parent.id, self.xszyid)'}\n",
    "mf = {'fileupload': open('requirements.txt', 'rb')}\n",
    "dd ={'xszyid':'self.xszyid','isDeleted':'0','zynr':''}\n",
    "tt= requests.post('https://www.baidu.com/',data=dd,headers=head,files=mf)"
   ]
  },
  {
   "cell_type": "code",
   "execution_count": 25,
   "metadata": {},
   "outputs": [
    {
     "name": "stdout",
     "output_type": "stream",
     "text": [
      "b'--56d3598020e599bd030a2931ee11742e\\r\\nContent-Disposition: form-data; name=\"xszyid\"\\r\\n\\r\\nself.xszyid\\r\\n--56d3598020e599bd030a2931ee11742e\\r\\nContent-Disposition: form-data; name=\"isDeleted\"\\r\\n\\r\\n0\\r\\n--56d3598020e599bd030a2931ee11742e\\r\\nContent-Disposition: form-data; name=\"zynr\"\\r\\n\\r\\n\\r\\n--56d3598020e599bd030a2931ee11742e\\r\\nContent-Disposition: form-data; name=\"fileupload\"; filename=\"requirements.txt\"\\r\\n\\r\\n\\xff\\xfer\\x00e\\x00q\\x00u\\x00e\\x00s\\x00t\\x00s\\x00~\\x00=\\x002\\x00.\\x002\\x007\\x00.\\x001\\x00\\r\\x00\\n\\x00\\r\\n--56d3598020e599bd030a2931ee11742e--\\r\\n'\n"
     ]
    }
   ],
   "source": [
    "print(tt.request.body)"
   ]
  },
  {
   "cell_type": "code",
   "execution_count": 26,
   "metadata": {},
   "outputs": [
    {
     "name": "stdout",
     "output_type": "stream",
     "text": [
      "{'User-Agent': 'python-requests/2.25.1', 'Accept-Encoding': 'gzip, deflate', 'Accept': '*/*', 'Connection': 'keep-alive', 'referer': 'handinhomeworkurl % (self.parent.id, self.xszyid)', 'Content-Length': '470', 'Content-Type': 'multipart/form-data; boundary=56d3598020e599bd030a2931ee11742e'}\n"
     ]
    }
   ],
   "source": [
    "print(tt.request.headers)"
   ]
  },
  {
   "cell_type": "code",
   "execution_count": 11,
   "metadata": {},
   "outputs": [
    {
     "name": "stdout",
     "output_type": "stream",
     "text": [
      " 0 中国近现代史纲要 1-4专题  读书报告\n",
      "1 英语文学中的中国形象 in-class writing (1)\n",
      "2 英语文学中的中国形象 in-class writing (0)\n",
      "3 微积分A(2) 02组第10课作业\n",
      "4 微积分A(2) 02组第9课作业\n",
      "5 微积分A(2) 02组第8课作业\n",
      "6 微积分A(2) 02组第7课作业\n",
      "7 微积分A(2) 02组第6课作业\n",
      "8 微积分A(2) 02组第5课作业\n",
      "9 大学物理A(1) 第五章作业\n",
      "10 大学物理A(1) 第四章作业\n",
      "11 电子电路与系统基础实验(1) 实验一 仪器使用和基本电量的测量\n",
      "12 计算机程序设计基础（2） 第5次作业\n",
      "13 计算机程序设计基础（2） 第4次作业\n",
      "14 计算机程序设计基础（2） 第3次作业\n",
      "15 计算机程序设计基础（2） 第2次作业\n",
      "16 计算机程序设计基础（2） 第1次作业\n",
      "17 电子电路与系统基础（1） 第三次cad作业\n",
      "18 电子电路与系统基础（1） 第四次纸质作业\n",
      "19 电子电路与系统基础（1） 第二次cad作业\n",
      "20 电子电路与系统基础（1） 第三次纸质作业\n",
      "21 电子信息科学与技术导引(1) 第三讲作业\n",
      "\n"
     ]
    }
   ],
   "source": [
    "import requests\n"
   ]
  },
  {
   "cell_type": "code",
   "execution_count": 14,
   "metadata": {},
   "outputs": [
    {
     "name": "stdout",
     "output_type": "stream",
     "text": [
      " 0 中国近现代史纲要 1-4专题  读书报告\n",
      "1 英语文学中的中国形象 in-class writing (1)\n",
      "2 英语文学中的中国形象 in-class writing (0)\n",
      "3 微积分A(2) 02组第10课作业\n",
      "4 微积分A(2) 02组第9课作业\n",
      "5 微积分A(2) 02组第8课作业\n",
      "6 微积分A(2) 02组第7课作业\n",
      "7 微积分A(2) 02组第6课作业\n",
      "8 微积分A(2) 02组第5课作业\n",
      "9 大学物理A(1) 第五章作业\n",
      "10 大学物理A(1) 第四章作业\n",
      "11 电子电路与系统基础实验(1) 实验一 仪器使用和基本电量的测量\n",
      "12 计算机程序设计基础（2） 第5次作业\n",
      "13 计算机程序设计基础（2） 第4次作业\n",
      "14 计算机程序设计基础（2） 第3次作业\n",
      "15 计算机程序设计基础（2） 第2次作业\n",
      "16 计算机程序设计基础（2） 第1次作业\n",
      "17 电子电路与系统基础（1） 第三次cad作业\n",
      "18 电子电路与系统基础（1） 第四次纸质作业\n",
      "19 电子电路与系统基础（1） 第二次cad作业\n",
      "20 电子电路与系统基础（1） 第三次纸质作业\n",
      "21 电子信息科学与技术导引(1) 第三讲作业\n",
      "\n"
     ]
    }
   ],
   "source": [
    "\n",
    "g = requests.post('http://localhost:6835',timeout=5,data='hwinfo')\n",
    "print(g.text)"
   ]
  },
  {
   "cell_type": "code",
   "execution_count": 63,
   "metadata": {},
   "outputs": [
    {
     "ename": "UnicodeEncodeError",
     "evalue": "'gb2312' codec can't encode character '\\xd6' in position 2: illegal multibyte sequence",
     "output_type": "error",
     "traceback": [
      "\u001b[1;31m---------------------------------------------------------------------------\u001b[0m",
      "\u001b[1;31mUnicodeEncodeError\u001b[0m                        Traceback (most recent call last)",
      "\u001b[1;32m<ipython-input-63-62169c71df6c>\u001b[0m in \u001b[0;36m<module>\u001b[1;34m\u001b[0m\n\u001b[1;32m----> 1\u001b[1;33m \u001b[0mg\u001b[0m\u001b[1;33m.\u001b[0m\u001b[0mtext\u001b[0m\u001b[1;33m.\u001b[0m\u001b[0mencode\u001b[0m\u001b[1;33m(\u001b[0m\u001b[1;34m'gb2312'\u001b[0m\u001b[1;33m)\u001b[0m\u001b[1;33m\u001b[0m\u001b[1;33m\u001b[0m\u001b[0m\n\u001b[0m",
      "\u001b[1;31mUnicodeEncodeError\u001b[0m: 'gb2312' codec can't encode character '\\xd6' in position 2: illegal multibyte sequence"
     ]
    }
   ],
   "source": [
    "g.text.encode('gb2312')"
   ]
  }
 ],
 "metadata": {
  "interpreter": {
   "hash": "4df997fd24f7979cfe0eb3d37bc38c0e054dff3a8c081d104da728498b7a9064"
  },
  "kernelspec": {
   "display_name": "Python 3.8.8 ('base')",
   "language": "python",
   "name": "python3"
  },
  "language_info": {
   "codemirror_mode": {
    "name": "ipython",
    "version": 3
   },
   "file_extension": ".py",
   "mimetype": "text/x-python",
   "name": "python",
   "nbconvert_exporter": "python",
   "pygments_lexer": "ipython3",
   "version": "3.8.8"
  },
  "orig_nbformat": 4
 },
 "nbformat": 4,
 "nbformat_minor": 2
}
